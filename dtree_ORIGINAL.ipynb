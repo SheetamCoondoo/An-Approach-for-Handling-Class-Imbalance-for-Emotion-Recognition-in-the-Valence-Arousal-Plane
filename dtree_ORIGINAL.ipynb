{
 "cells": [
  {
   "cell_type": "code",
   "execution_count": 1,
   "metadata": {},
   "outputs": [],
   "source": [
    "import numpy as np\n",
    "import pandas as pd"
   ]
  },
  {
   "cell_type": "code",
   "execution_count": 2,
   "metadata": {},
   "outputs": [],
   "source": [
    "df=pd.read_csv(\"GSR_ECG_EEG_DATA.csv\")"
   ]
  },
  {
   "cell_type": "code",
   "execution_count": 3,
   "metadata": {},
   "outputs": [
    {
     "data": {
      "text/html": [
       "<div>\n",
       "<style scoped>\n",
       "    .dataframe tbody tr th:only-of-type {\n",
       "        vertical-align: middle;\n",
       "    }\n",
       "\n",
       "    .dataframe tbody tr th {\n",
       "        vertical-align: top;\n",
       "    }\n",
       "\n",
       "    .dataframe thead th {\n",
       "        text-align: right;\n",
       "    }\n",
       "</style>\n",
       "<table border=\"1\" class=\"dataframe\">\n",
       "  <thead>\n",
       "    <tr style=\"text-align: right;\">\n",
       "      <th></th>\n",
       "      <th>subject_id</th>\n",
       "      <th>case_id</th>\n",
       "      <th>label_Arousal</th>\n",
       "      <th>label_Valence</th>\n",
       "      <th>Label</th>\n",
       "      <th>Labell</th>\n",
       "      <th>GSR_0</th>\n",
       "      <th>GSR_1</th>\n",
       "      <th>GSR_2</th>\n",
       "      <th>GSR_3</th>\n",
       "      <th>...</th>\n",
       "      <th>EEG_78</th>\n",
       "      <th>EEG_79</th>\n",
       "      <th>EEG_80</th>\n",
       "      <th>EEG_81</th>\n",
       "      <th>EEG_82</th>\n",
       "      <th>EEG_83</th>\n",
       "      <th>EEG_84</th>\n",
       "      <th>EEG_85</th>\n",
       "      <th>EEG_86</th>\n",
       "      <th>EEG_87</th>\n",
       "    </tr>\n",
       "  </thead>\n",
       "  <tbody>\n",
       "    <tr>\n",
       "      <th>0</th>\n",
       "      <td>0</td>\n",
       "      <td>0</td>\n",
       "      <td>1</td>\n",
       "      <td>1</td>\n",
       "      <td>HAHV</td>\n",
       "      <td>3</td>\n",
       "      <td>-0.277512</td>\n",
       "      <td>-0.029699</td>\n",
       "      <td>-0.446231</td>\n",
       "      <td>0.361831</td>\n",
       "      <td>...</td>\n",
       "      <td>-0.411472</td>\n",
       "      <td>-0.619955</td>\n",
       "      <td>-0.135081</td>\n",
       "      <td>-0.132510</td>\n",
       "      <td>0.860934</td>\n",
       "      <td>0.027133</td>\n",
       "      <td>0.490970</td>\n",
       "      <td>1.337359</td>\n",
       "      <td>-0.025029</td>\n",
       "      <td>1.120726</td>\n",
       "    </tr>\n",
       "    <tr>\n",
       "      <th>1</th>\n",
       "      <td>0</td>\n",
       "      <td>1</td>\n",
       "      <td>1</td>\n",
       "      <td>1</td>\n",
       "      <td>HAHV</td>\n",
       "      <td>3</td>\n",
       "      <td>-0.304174</td>\n",
       "      <td>1.088844</td>\n",
       "      <td>0.251643</td>\n",
       "      <td>0.253233</td>\n",
       "      <td>...</td>\n",
       "      <td>-0.412092</td>\n",
       "      <td>0.070994</td>\n",
       "      <td>-0.053708</td>\n",
       "      <td>-0.237470</td>\n",
       "      <td>0.509355</td>\n",
       "      <td>0.026983</td>\n",
       "      <td>1.307456</td>\n",
       "      <td>0.468313</td>\n",
       "      <td>0.447794</td>\n",
       "      <td>0.319481</td>\n",
       "    </tr>\n",
       "    <tr>\n",
       "      <th>2</th>\n",
       "      <td>0</td>\n",
       "      <td>2</td>\n",
       "      <td>-1</td>\n",
       "      <td>1</td>\n",
       "      <td>LAHV</td>\n",
       "      <td>1</td>\n",
       "      <td>-0.273032</td>\n",
       "      <td>-1.803324</td>\n",
       "      <td>0.034562</td>\n",
       "      <td>-0.469988</td>\n",
       "      <td>...</td>\n",
       "      <td>-0.412283</td>\n",
       "      <td>0.016873</td>\n",
       "      <td>-0.077167</td>\n",
       "      <td>0.004746</td>\n",
       "      <td>0.287991</td>\n",
       "      <td>0.031422</td>\n",
       "      <td>0.590245</td>\n",
       "      <td>2.206405</td>\n",
       "      <td>0.058303</td>\n",
       "      <td>1.521349</td>\n",
       "    </tr>\n",
       "    <tr>\n",
       "      <th>3</th>\n",
       "      <td>0</td>\n",
       "      <td>3</td>\n",
       "      <td>1</td>\n",
       "      <td>-1</td>\n",
       "      <td>HALV</td>\n",
       "      <td>2</td>\n",
       "      <td>-0.245539</td>\n",
       "      <td>-0.498300</td>\n",
       "      <td>-0.308101</td>\n",
       "      <td>0.120249</td>\n",
       "      <td>...</td>\n",
       "      <td>-0.412052</td>\n",
       "      <td>-0.591872</td>\n",
       "      <td>-0.178766</td>\n",
       "      <td>0.820206</td>\n",
       "      <td>2.742531</td>\n",
       "      <td>0.027683</td>\n",
       "      <td>0.900226</td>\n",
       "      <td>-0.835257</td>\n",
       "      <td>0.814336</td>\n",
       "      <td>-0.882388</td>\n",
       "    </tr>\n",
       "    <tr>\n",
       "      <th>4</th>\n",
       "      <td>0</td>\n",
       "      <td>4</td>\n",
       "      <td>1</td>\n",
       "      <td>1</td>\n",
       "      <td>HAHV</td>\n",
       "      <td>3</td>\n",
       "      <td>-0.272976</td>\n",
       "      <td>0.069360</td>\n",
       "      <td>0.587133</td>\n",
       "      <td>-0.593375</td>\n",
       "      <td>...</td>\n",
       "      <td>-0.409223</td>\n",
       "      <td>0.136497</td>\n",
       "      <td>-0.078865</td>\n",
       "      <td>0.150075</td>\n",
       "      <td>-0.350059</td>\n",
       "      <td>0.006795</td>\n",
       "      <td>0.977215</td>\n",
       "      <td>0.468313</td>\n",
       "      <td>-0.007352</td>\n",
       "      <td>0.720103</td>\n",
       "    </tr>\n",
       "    <tr>\n",
       "      <th>...</th>\n",
       "      <td>...</td>\n",
       "      <td>...</td>\n",
       "      <td>...</td>\n",
       "      <td>...</td>\n",
       "      <td>...</td>\n",
       "      <td>...</td>\n",
       "      <td>...</td>\n",
       "      <td>...</td>\n",
       "      <td>...</td>\n",
       "      <td>...</td>\n",
       "      <td>...</td>\n",
       "      <td>...</td>\n",
       "      <td>...</td>\n",
       "      <td>...</td>\n",
       "      <td>...</td>\n",
       "      <td>...</td>\n",
       "      <td>...</td>\n",
       "      <td>...</td>\n",
       "      <td>...</td>\n",
       "      <td>...</td>\n",
       "      <td>...</td>\n",
       "    </tr>\n",
       "    <tr>\n",
       "      <th>2083</th>\n",
       "      <td>57</td>\n",
       "      <td>31</td>\n",
       "      <td>1</td>\n",
       "      <td>1</td>\n",
       "      <td>HAHV</td>\n",
       "      <td>3</td>\n",
       "      <td>0.986476</td>\n",
       "      <td>0.080573</td>\n",
       "      <td>-0.329449</td>\n",
       "      <td>0.415492</td>\n",
       "      <td>...</td>\n",
       "      <td>0.576199</td>\n",
       "      <td>0.299082</td>\n",
       "      <td>-0.078269</td>\n",
       "      <td>0.434553</td>\n",
       "      <td>-0.994620</td>\n",
       "      <td>0.117327</td>\n",
       "      <td>-0.894182</td>\n",
       "      <td>-0.835257</td>\n",
       "      <td>-0.065031</td>\n",
       "      <td>-0.782154</td>\n",
       "    </tr>\n",
       "    <tr>\n",
       "      <th>2084</th>\n",
       "      <td>57</td>\n",
       "      <td>32</td>\n",
       "      <td>1</td>\n",
       "      <td>1</td>\n",
       "      <td>HAHV</td>\n",
       "      <td>3</td>\n",
       "      <td>0.980860</td>\n",
       "      <td>0.153492</td>\n",
       "      <td>-0.289178</td>\n",
       "      <td>0.464089</td>\n",
       "      <td>...</td>\n",
       "      <td>0.032018</td>\n",
       "      <td>0.313810</td>\n",
       "      <td>-0.080094</td>\n",
       "      <td>0.386072</td>\n",
       "      <td>-0.994620</td>\n",
       "      <td>0.085760</td>\n",
       "      <td>-0.981835</td>\n",
       "      <td>-0.835257</td>\n",
       "      <td>-0.064583</td>\n",
       "      <td>-0.882388</td>\n",
       "    </tr>\n",
       "    <tr>\n",
       "      <th>2085</th>\n",
       "      <td>57</td>\n",
       "      <td>33</td>\n",
       "      <td>1</td>\n",
       "      <td>1</td>\n",
       "      <td>HAHV</td>\n",
       "      <td>3</td>\n",
       "      <td>0.966261</td>\n",
       "      <td>2.163938</td>\n",
       "      <td>0.451337</td>\n",
       "      <td>0.693286</td>\n",
       "      <td>...</td>\n",
       "      <td>0.801525</td>\n",
       "      <td>0.282263</td>\n",
       "      <td>-0.076024</td>\n",
       "      <td>1.096645</td>\n",
       "      <td>-0.994620</td>\n",
       "      <td>0.379750</td>\n",
       "      <td>-1.083207</td>\n",
       "      <td>-0.835257</td>\n",
       "      <td>-0.064545</td>\n",
       "      <td>-0.882388</td>\n",
       "    </tr>\n",
       "    <tr>\n",
       "      <th>2086</th>\n",
       "      <td>57</td>\n",
       "      <td>34</td>\n",
       "      <td>1</td>\n",
       "      <td>-1</td>\n",
       "      <td>HALV</td>\n",
       "      <td>2</td>\n",
       "      <td>1.019600</td>\n",
       "      <td>1.637922</td>\n",
       "      <td>0.265456</td>\n",
       "      <td>0.034017</td>\n",
       "      <td>...</td>\n",
       "      <td>-0.131861</td>\n",
       "      <td>0.398485</td>\n",
       "      <td>-0.026769</td>\n",
       "      <td>0.405750</td>\n",
       "      <td>-0.994620</td>\n",
       "      <td>-0.428943</td>\n",
       "      <td>-0.889847</td>\n",
       "      <td>-0.835257</td>\n",
       "      <td>-0.063725</td>\n",
       "      <td>-0.882388</td>\n",
       "    </tr>\n",
       "    <tr>\n",
       "      <th>2087</th>\n",
       "      <td>57</td>\n",
       "      <td>35</td>\n",
       "      <td>1</td>\n",
       "      <td>1</td>\n",
       "      <td>HAHV</td>\n",
       "      <td>3</td>\n",
       "      <td>0.982587</td>\n",
       "      <td>-0.235715</td>\n",
       "      <td>-0.276266</td>\n",
       "      <td>0.137352</td>\n",
       "      <td>...</td>\n",
       "      <td>0.941604</td>\n",
       "      <td>0.869146</td>\n",
       "      <td>0.071426</td>\n",
       "      <td>-0.598405</td>\n",
       "      <td>-0.994620</td>\n",
       "      <td>0.020134</td>\n",
       "      <td>-0.889706</td>\n",
       "      <td>-0.835257</td>\n",
       "      <td>-0.064425</td>\n",
       "      <td>-0.882388</td>\n",
       "    </tr>\n",
       "  </tbody>\n",
       "</table>\n",
       "<p>2088 rows × 137 columns</p>\n",
       "</div>"
      ],
      "text/plain": [
       "      subject_id  case_id  label_Arousal  label_Valence Label  Labell  \\\n",
       "0              0        0              1              1  HAHV       3   \n",
       "1              0        1              1              1  HAHV       3   \n",
       "2              0        2             -1              1  LAHV       1   \n",
       "3              0        3              1             -1  HALV       2   \n",
       "4              0        4              1              1  HAHV       3   \n",
       "...          ...      ...            ...            ...   ...     ...   \n",
       "2083          57       31              1              1  HAHV       3   \n",
       "2084          57       32              1              1  HAHV       3   \n",
       "2085          57       33              1              1  HAHV       3   \n",
       "2086          57       34              1             -1  HALV       2   \n",
       "2087          57       35              1              1  HAHV       3   \n",
       "\n",
       "         GSR_0     GSR_1     GSR_2     GSR_3  ...    EEG_78    EEG_79  \\\n",
       "0    -0.277512 -0.029699 -0.446231  0.361831  ... -0.411472 -0.619955   \n",
       "1    -0.304174  1.088844  0.251643  0.253233  ... -0.412092  0.070994   \n",
       "2    -0.273032 -1.803324  0.034562 -0.469988  ... -0.412283  0.016873   \n",
       "3    -0.245539 -0.498300 -0.308101  0.120249  ... -0.412052 -0.591872   \n",
       "4    -0.272976  0.069360  0.587133 -0.593375  ... -0.409223  0.136497   \n",
       "...        ...       ...       ...       ...  ...       ...       ...   \n",
       "2083  0.986476  0.080573 -0.329449  0.415492  ...  0.576199  0.299082   \n",
       "2084  0.980860  0.153492 -0.289178  0.464089  ...  0.032018  0.313810   \n",
       "2085  0.966261  2.163938  0.451337  0.693286  ...  0.801525  0.282263   \n",
       "2086  1.019600  1.637922  0.265456  0.034017  ... -0.131861  0.398485   \n",
       "2087  0.982587 -0.235715 -0.276266  0.137352  ...  0.941604  0.869146   \n",
       "\n",
       "        EEG_80    EEG_81    EEG_82    EEG_83    EEG_84    EEG_85    EEG_86  \\\n",
       "0    -0.135081 -0.132510  0.860934  0.027133  0.490970  1.337359 -0.025029   \n",
       "1    -0.053708 -0.237470  0.509355  0.026983  1.307456  0.468313  0.447794   \n",
       "2    -0.077167  0.004746  0.287991  0.031422  0.590245  2.206405  0.058303   \n",
       "3    -0.178766  0.820206  2.742531  0.027683  0.900226 -0.835257  0.814336   \n",
       "4    -0.078865  0.150075 -0.350059  0.006795  0.977215  0.468313 -0.007352   \n",
       "...        ...       ...       ...       ...       ...       ...       ...   \n",
       "2083 -0.078269  0.434553 -0.994620  0.117327 -0.894182 -0.835257 -0.065031   \n",
       "2084 -0.080094  0.386072 -0.994620  0.085760 -0.981835 -0.835257 -0.064583   \n",
       "2085 -0.076024  1.096645 -0.994620  0.379750 -1.083207 -0.835257 -0.064545   \n",
       "2086 -0.026769  0.405750 -0.994620 -0.428943 -0.889847 -0.835257 -0.063725   \n",
       "2087  0.071426 -0.598405 -0.994620  0.020134 -0.889706 -0.835257 -0.064425   \n",
       "\n",
       "        EEG_87  \n",
       "0     1.120726  \n",
       "1     0.319481  \n",
       "2     1.521349  \n",
       "3    -0.882388  \n",
       "4     0.720103  \n",
       "...        ...  \n",
       "2083 -0.782154  \n",
       "2084 -0.882388  \n",
       "2085 -0.882388  \n",
       "2086 -0.882388  \n",
       "2087 -0.882388  \n",
       "\n",
       "[2088 rows x 137 columns]"
      ]
     },
     "execution_count": 3,
     "metadata": {},
     "output_type": "execute_result"
    }
   ],
   "source": [
    "df"
   ]
  },
  {
   "cell_type": "code",
   "execution_count": 4,
   "metadata": {},
   "outputs": [],
   "source": [
    "# distributing the dataset into two components X and Y\n",
    "X = df.iloc[:, 6:105].values"
   ]
  },
  {
   "cell_type": "code",
   "execution_count": 5,
   "metadata": {},
   "outputs": [
    {
     "data": {
      "text/plain": [
       "array([[-0.27751245, -0.02969867, -0.44623097, ...,  0.94661264,\n",
       "         0.07743937,  0.8189292 ],\n",
       "       [-0.30417424,  1.08884353,  0.25164327, ...,  0.58898326,\n",
       "         0.72115833,  0.48159414],\n",
       "       [-0.27303202, -1.80332428,  0.03456197, ...,  1.30424203,\n",
       "         0.24581004,  1.15626427],\n",
       "       ...,\n",
       "       [ 0.96626112,  2.16393804,  0.45133677, ..., -0.84153429,\n",
       "        -0.07109833, -0.86774612],\n",
       "       [ 1.01959974,  1.63792188,  0.26545592, ..., -0.84153429,\n",
       "        -0.06958129, -0.86774612],\n",
       "       [ 0.98258696, -0.2357149 , -0.27626619, ..., -0.84153429,\n",
       "        -0.06852557, -0.86774612]])"
      ]
     },
     "execution_count": 5,
     "metadata": {},
     "output_type": "execute_result"
    }
   ],
   "source": [
    "X"
   ]
  },
  {
   "cell_type": "code",
   "execution_count": 6,
   "metadata": {},
   "outputs": [],
   "source": [
    "y = df.iloc[:, 5].values"
   ]
  },
  {
   "cell_type": "code",
   "execution_count": 7,
   "metadata": {},
   "outputs": [
    {
     "data": {
      "text/plain": [
       "array([3, 3, 1, ..., 3, 2, 3], dtype=int64)"
      ]
     },
     "execution_count": 7,
     "metadata": {},
     "output_type": "execute_result"
    }
   ],
   "source": [
    "y"
   ]
  },
  {
   "cell_type": "code",
   "execution_count": 8,
   "metadata": {},
   "outputs": [],
   "source": [
    "# performing preprocessing part\n",
    "from sklearn.preprocessing import StandardScaler\n",
    "sc = StandardScaler()\n",
    " \n",
    "X = sc.fit_transform(X)"
   ]
  },
  {
   "cell_type": "code",
   "execution_count": 9,
   "metadata": {
    "scrolled": true
   },
   "outputs": [
    {
     "name": "stdout",
     "output_type": "stream",
     "text": [
      "0.49760765550239233 , 0.49760765550239233 , 0.49760765550239233 , 0.49760765550239233 ,\n"
     ]
    }
   ],
   "source": [
    "# Splitting the X and Y into the\n",
    "# Training set and Testing set\n",
    "from sklearn.decomposition import PCA\n",
    "from sklearn.model_selection import train_test_split\n",
    "from sklearn.tree import DecisionTreeClassifier \n",
    "from sklearn.svm import SVC \n",
    "from sklearn.metrics import accuracy_score\n",
    "from sklearn.metrics import precision_score\n",
    "from sklearn.metrics import recall_score\n",
    "from sklearn.metrics import f1_score\n",
    "from sklearn.metrics import cohen_kappa_score\n",
    "from sklearn.metrics import roc_auc_score\n",
    "from sklearn.metrics import confusion_matrix\n",
    "\n",
    "\n",
    "#for i in range(0,100):\n",
    "\n",
    " \n",
    "X_train, X_test, y_train, y_test = train_test_split(X, y, test_size = 0.3, random_state = 4)\n",
    "#pca = PCA(n_components = 50)\n",
    "#X_train = pca.fit_transform(X_train)\n",
    "#X_test = pca.transform(X_test)\n",
    "classifier = DecisionTreeClassifier(random_state=0, max_depth=2)\n",
    "classifier.fit(X_train, y_train)\n",
    "#classifier = SVC(kernel='linear')\n",
    "#classifier.fit(X_train, y_train)    \n",
    "y_pred = classifier.predict(X_test)\n",
    "    \n",
    "accuracy = accuracy_score(y_test, y_pred)\n",
    "    #print('Accuracy: %f' % accuracy)\n",
    "    # precision tp / (tp + fp)\n",
    "precision = precision_score(y_test, y_pred,average='micro')\n",
    "    #print('Precision: %f' % precision)\n",
    "    # recall: tp / (tp + fn)\n",
    "recall = recall_score(y_test, y_pred, average='micro')\n",
    "    #print('Recall: %f' % recall)\n",
    "    # f1: 2 tp / (2 tp + fp + fn)\n",
    "f1 = f1_score(y_test, y_pred,  average='micro')\n",
    "print(accuracy,\",\",precision,\",\",recall,\",\",f1,\",\")"
   ]
  },
  {
   "cell_type": "code",
   "execution_count": 10,
   "metadata": {},
   "outputs": [
    {
     "data": {
      "text/plain": [
       "array([[  0,   0,   2,  26],\n",
       "       [  0,   0,   6,  60],\n",
       "       [  0,   0,  13, 207],\n",
       "       [  0,   0,  14, 299]], dtype=int64)"
      ]
     },
     "execution_count": 10,
     "metadata": {},
     "output_type": "execute_result"
    }
   ],
   "source": [
    "# making confusion matrix between\n",
    "#  test set of Y and predicted value.\n",
    "from sklearn.metrics import confusion_matrix\n",
    " \n",
    "cm = confusion_matrix(y_test, y_pred)\n",
    "cm"
   ]
  },
  {
   "cell_type": "code",
   "execution_count": 11,
   "metadata": {},
   "outputs": [
    {
     "name": "stdout",
     "output_type": "stream",
     "text": [
      "Precision: 0.498\n",
      "Recall: 0.498\n",
      "Accuracy: 0.498\n",
      "F1:0.498\n"
     ]
    }
   ],
   "source": [
    "from sklearn.metrics import precision_score, recall_score, f1_score, accuracy_score\n",
    "print('Precision: %.3f' % precision_score(y_test, y_pred, average='micro')) \n",
    "print('Recall: %.3f' % recall_score(y_test, y_pred, average='micro'))\n",
    "print('Accuracy: %.3f' % accuracy_score(y_test, y_pred))\n",
    "print('F1:%.3f'% f1_score(y_test, y_pred,  average='micro'))"
   ]
  },
  {
   "cell_type": "code",
   "execution_count": 12,
   "metadata": {},
   "outputs": [],
   "source": [
    "import numpy as np\n",
    "cm=np.transpose( np.transpose(cm) / cm.astype(np.float).sum(axis=1) )"
   ]
  },
  {
   "cell_type": "code",
   "execution_count": 13,
   "metadata": {},
   "outputs": [
    {
     "data": {
      "text/plain": [
       "array([[0.        , 0.        , 0.07142857, 0.92857143],\n",
       "       [0.        , 0.        , 0.09090909, 0.90909091],\n",
       "       [0.        , 0.        , 0.05909091, 0.94090909],\n",
       "       [0.        , 0.        , 0.04472843, 0.95527157]])"
      ]
     },
     "execution_count": 13,
     "metadata": {},
     "output_type": "execute_result"
    }
   ],
   "source": [
    "cm"
   ]
  },
  {
   "cell_type": "code",
   "execution_count": 14,
   "metadata": {},
   "outputs": [],
   "source": [
    "cm = pd.DataFrame(cm,\n",
    "                     index = ['LAHV','LALV','HAHV','HALV'], \n",
    "                     columns = ['LAHV','LALV','HAHV','HALV'])"
   ]
  },
  {
   "cell_type": "code",
   "execution_count": 15,
   "metadata": {},
   "outputs": [
    {
     "data": {
      "text/html": [
       "<div>\n",
       "<style scoped>\n",
       "    .dataframe tbody tr th:only-of-type {\n",
       "        vertical-align: middle;\n",
       "    }\n",
       "\n",
       "    .dataframe tbody tr th {\n",
       "        vertical-align: top;\n",
       "    }\n",
       "\n",
       "    .dataframe thead th {\n",
       "        text-align: right;\n",
       "    }\n",
       "</style>\n",
       "<table border=\"1\" class=\"dataframe\">\n",
       "  <thead>\n",
       "    <tr style=\"text-align: right;\">\n",
       "      <th></th>\n",
       "      <th>LAHV</th>\n",
       "      <th>LALV</th>\n",
       "      <th>HAHV</th>\n",
       "      <th>HALV</th>\n",
       "    </tr>\n",
       "  </thead>\n",
       "  <tbody>\n",
       "    <tr>\n",
       "      <th>LAHV</th>\n",
       "      <td>0.0</td>\n",
       "      <td>0.0</td>\n",
       "      <td>0.071429</td>\n",
       "      <td>0.928571</td>\n",
       "    </tr>\n",
       "    <tr>\n",
       "      <th>LALV</th>\n",
       "      <td>0.0</td>\n",
       "      <td>0.0</td>\n",
       "      <td>0.090909</td>\n",
       "      <td>0.909091</td>\n",
       "    </tr>\n",
       "    <tr>\n",
       "      <th>HAHV</th>\n",
       "      <td>0.0</td>\n",
       "      <td>0.0</td>\n",
       "      <td>0.059091</td>\n",
       "      <td>0.940909</td>\n",
       "    </tr>\n",
       "    <tr>\n",
       "      <th>HALV</th>\n",
       "      <td>0.0</td>\n",
       "      <td>0.0</td>\n",
       "      <td>0.044728</td>\n",
       "      <td>0.955272</td>\n",
       "    </tr>\n",
       "  </tbody>\n",
       "</table>\n",
       "</div>"
      ],
      "text/plain": [
       "      LAHV  LALV      HAHV      HALV\n",
       "LAHV   0.0   0.0  0.071429  0.928571\n",
       "LALV   0.0   0.0  0.090909  0.909091\n",
       "HAHV   0.0   0.0  0.059091  0.940909\n",
       "HALV   0.0   0.0  0.044728  0.955272"
      ]
     },
     "execution_count": 15,
     "metadata": {},
     "output_type": "execute_result"
    }
   ],
   "source": [
    "cm"
   ]
  },
  {
   "cell_type": "code",
   "execution_count": 16,
   "metadata": {},
   "outputs": [
    {
     "data": {
      "text/plain": [
       "array([3, 2, 2, 1, 2, 3, 2, 3, 2, 3, 3, 2, 3, 1, 2, 3, 3, 3, 2, 3, 1, 0,\n",
       "       2, 3, 2, 3, 3, 2, 3, 1, 1, 3, 2, 2, 3, 3, 2, 3, 1, 3, 3, 2, 2, 1,\n",
       "       2, 0, 1, 0, 3, 2, 3, 3, 2, 2, 3, 3, 3, 3, 3, 2, 2, 2, 3, 2, 2, 3,\n",
       "       3, 2, 2, 2, 3, 2, 3, 3, 2, 0, 3, 3, 3, 1, 3, 2, 3, 3, 1, 3, 2, 3,\n",
       "       2, 2, 2, 1, 3, 3, 3, 3, 3, 2, 2, 3, 1, 1, 3, 3, 2, 2, 2, 2, 3, 2,\n",
       "       3, 3, 2, 3, 3, 2, 3, 3, 1, 2, 3, 1, 3, 0, 2, 3, 3, 3, 3, 2, 2, 2,\n",
       "       3, 3, 0, 3, 2, 0, 2, 2, 3, 2, 1, 3, 3, 3, 3, 2, 3, 3, 2, 0, 3, 3,\n",
       "       3, 1, 2, 2, 3, 2, 2, 3, 3, 2, 0, 1, 2, 3, 0, 3, 1, 2, 3, 3, 2, 0,\n",
       "       2, 2, 3, 3, 3, 3, 0, 3, 1, 2, 3, 2, 2, 3, 2, 3, 1, 3, 2, 1, 3, 3,\n",
       "       2, 1, 2, 3, 3, 2, 3, 3, 3, 3, 3, 2, 0, 2, 1, 2, 3, 3, 2, 2, 2, 0,\n",
       "       3, 3, 2, 3, 3, 3, 2, 3, 3, 2, 3, 2, 3, 2, 3, 2, 3, 2, 3, 3, 2, 3,\n",
       "       3, 2, 3, 0, 3, 2, 3, 3, 3, 3, 1, 2, 2, 1, 2, 1, 2, 2, 3, 2, 3, 3,\n",
       "       2, 2, 3, 2, 3, 2, 2, 0, 1, 2, 3, 3, 2, 1, 3, 3, 3, 3, 3, 3, 3, 3,\n",
       "       2, 1, 3, 2, 2, 3, 3, 3, 3, 1, 1, 3, 0, 3, 2, 2, 3, 3, 3, 2, 2, 3,\n",
       "       3, 2, 3, 3, 2, 2, 2, 2, 1, 2, 3, 3, 2, 3, 3, 3, 2, 3, 2, 1, 3, 3,\n",
       "       1, 3, 3, 2, 2, 1, 1, 1, 2, 2, 2, 3, 0, 3, 3, 3, 3, 2, 2, 1, 2, 3,\n",
       "       2, 3, 3, 1, 1, 3, 3, 1, 3, 1, 2, 2, 3, 2, 3, 2, 3, 2, 3, 2, 0, 3,\n",
       "       2, 3, 1, 2, 3, 3, 1, 2, 3, 3, 3, 2, 2, 3, 3, 3, 3, 2, 2, 3, 1, 2,\n",
       "       2, 3, 3, 0, 0, 3, 2, 3, 2, 3, 3, 3, 2, 2, 2, 3, 3, 3, 3, 3, 3, 3,\n",
       "       2, 2, 3, 2, 3, 3, 2, 3, 1, 3, 3, 2, 3, 2, 3, 3, 3, 2, 3, 3, 3, 2,\n",
       "       3, 3, 3, 2, 3, 2, 2, 1, 2, 3, 3, 0, 3, 3, 3, 3, 3, 3, 2, 3, 3, 2,\n",
       "       2, 2, 3, 2, 2, 1, 3, 2, 3, 2, 2, 3, 3, 2, 3, 2, 2, 2, 2, 2, 2, 2,\n",
       "       3, 3, 3, 1, 3, 1, 3, 2, 2, 3, 2, 2, 1, 3, 3, 2, 1, 1, 2, 3, 3, 1,\n",
       "       2, 3, 3, 1, 3, 3, 2, 2, 3, 2, 3, 3, 2, 3, 2, 3, 3, 2, 2, 2, 2, 3,\n",
       "       3, 3, 3, 3, 3, 3, 3, 2, 2, 3, 1, 0, 3, 3, 2, 3, 3, 3, 3, 3, 3, 3,\n",
       "       3, 3, 3, 2, 3, 3, 3, 1, 3, 0, 3, 2, 3, 3, 3, 2, 3, 0, 1, 0, 3, 3,\n",
       "       3, 2, 3, 2, 2, 2, 3, 2, 2, 3, 2, 2, 3, 2, 3, 3, 3, 2, 1, 3, 2, 3,\n",
       "       3, 3, 1, 3, 2, 2, 1, 3, 0, 2, 2, 1, 3, 2, 2, 2, 2, 3, 3, 0, 2, 3,\n",
       "       3, 3, 3, 2, 3, 2, 3, 3, 1, 1, 1], dtype=int64)"
      ]
     },
     "execution_count": 16,
     "metadata": {},
     "output_type": "execute_result"
    }
   ],
   "source": [
    "y_test"
   ]
  },
  {
   "cell_type": "code",
   "execution_count": 17,
   "metadata": {},
   "outputs": [
    {
     "data": {
      "image/png": "[encoded data removed]",
      "text/plain": [
       "<Figure size 432x288 with 2 Axes>"
      ]
     },
     "metadata": {
      "needs_background": "light"
     },
     "output_type": "display_data"
    }
   ],
   "source": [
    "import numpy as np\n",
    "import seaborn as sns\n",
    "import matplotlib.pyplot as plt\n",
    "ax=sns.heatmap(cm, annot=True, fmt=\"0.3f\", annot_kws={\"size\": 16})\n",
    "bottom, top = ax.get_ylim()\n",
    "ax.set_ylim(bottom+0.45, top-0.4)\n",
    "plt.xlabel(\"Predicted labels\", fontsize=14)\n",
    "plt.ylabel(\"True labels\", fontsize=14)\n",
    "#plt.figure(figsize=(10,7))\n",
    "#plt.savefig(\"hmwscalingall.png\", dpi=300)\n",
    "plt.show()"
   ]
  },
  {
   "cell_type": "code",
   "execution_count": null,
   "metadata": {},
   "outputs": [],
   "source": []
  },
  {
   "cell_type": "code",
   "execution_count": null,
   "metadata": {},
   "outputs": [],
   "source": []
  },
  {
   "cell_type": "code",
   "execution_count": null,
   "metadata": {},
   "outputs": [],
   "source": []
  }
 ],
 "metadata": {
  "kernelspec": {
   "display_name": "Python 3",
   "language": "python",
   "name": "python3"
  },
  "language_info": {
   "codemirror_mode": {
    "name": "ipython",
    "version": 3
   },
   "file_extension": ".py",
   "mimetype": "text/x-python",
   "name": "python",
   "nbconvert_exporter": "python",
   "pygments_lexer": "ipython3",
   "version": "3.8.8"
  }
 },
 "nbformat": 4,
 "nbformat_minor": 4
}
