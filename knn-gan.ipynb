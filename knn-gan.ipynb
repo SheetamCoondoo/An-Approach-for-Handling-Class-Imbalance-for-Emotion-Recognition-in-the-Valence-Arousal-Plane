{
 "cells": [
  {
   "cell_type": "code",
   "execution_count": 1,
   "metadata": {},
   "outputs": [],
   "source": [
    "import numpy as np\n",
    "import pandas as pd"
   ]
  },
  {
   "cell_type": "code",
   "execution_count": 2,
   "metadata": {},
   "outputs": [],
   "source": [
    "df=pd.read_csv(\"augmented_GSR_ECG_EEG_DATA(CTGAN).csv\")"
   ]
  },
  {
   "cell_type": "code",
   "execution_count": 3,
   "metadata": {},
   "outputs": [],
   "source": [
    "# distributing the dataset into two components X and Y\n",
    "X = df.iloc[:, 6:105].values"
   ]
  },
  {
   "cell_type": "code",
   "execution_count": 4,
   "metadata": {},
   "outputs": [
    {
     "data": {
      "text/plain": [
       "array([[-0.27751245, -0.02969867, -0.44623097, ...,  0.94661264,\n",
       "         0.07743937,  0.8189292 ],\n",
       "       [-0.30417424,  1.08884353,  0.25164327, ...,  0.58898326,\n",
       "         0.72115833,  0.48159414],\n",
       "       [-0.27303202, -1.80332428,  0.03456197, ...,  1.30424203,\n",
       "         0.24581004,  1.15626427],\n",
       "       ...,\n",
       "       [ 0.09202605,  2.08657468,  7.07917814, ..., -1.57036785,\n",
       "         0.65951658, -1.734643  ],\n",
       "       [ 1.26664476,  4.26390743, -0.29183218, ..., -1.6965403 ,\n",
       "         0.6580191 , -1.68265812],\n",
       "       [ 0.26952264,  1.0581689 ,  0.860568  , ...,  1.10481873,\n",
       "        -0.47166773, -1.37229874]])"
      ]
     },
     "execution_count": 4,
     "metadata": {},
     "output_type": "execute_result"
    }
   ],
   "source": [
    "X"
   ]
  },
  {
   "cell_type": "code",
   "execution_count": 5,
   "metadata": {},
   "outputs": [],
   "source": [
    "y = df.iloc[:, 5].values"
   ]
  },
  {
   "cell_type": "code",
   "execution_count": 6,
   "metadata": {},
   "outputs": [
    {
     "data": {
      "text/plain": [
       "array([3, 3, 1, ..., 0, 0, 0], dtype=int64)"
      ]
     },
     "execution_count": 6,
     "metadata": {},
     "output_type": "execute_result"
    }
   ],
   "source": [
    "y"
   ]
  },
  {
   "cell_type": "code",
   "execution_count": 7,
   "metadata": {},
   "outputs": [],
   "source": [
    "# performing preprocessing part\n",
    "from sklearn.preprocessing import StandardScaler\n",
    "sc = StandardScaler()\n",
    " \n",
    "X = sc.fit_transform(X)"
   ]
  },
  {
   "cell_type": "code",
   "execution_count": 8,
   "metadata": {},
   "outputs": [
    {
     "name": "stdout",
     "output_type": "stream",
     "text": [
      "0.507223113964687 , 0.507223113964687 , 0.507223113964687 , 0.507223113964687 ,\n"
     ]
    }
   ],
   "source": [
    "# Splitting the X and Y into the\n",
    "# Training set and Testing set\n",
    "from sklearn.decomposition import PCA\n",
    "from sklearn.model_selection import train_test_split\n",
    "from sklearn.neighbors import KNeighborsClassifier \n",
    "from sklearn.metrics import accuracy_score\n",
    "from sklearn.metrics import precision_score\n",
    "from sklearn.metrics import recall_score\n",
    "from sklearn.metrics import f1_score\n",
    "from sklearn.metrics import cohen_kappa_score\n",
    "from sklearn.metrics import roc_auc_score\n",
    "from sklearn.metrics import confusion_matrix\n",
    "\n",
    "\n",
    "#for i in range(0,100):\n",
    "\n",
    " \n",
    "X_train, X_test, y_train, y_test = train_test_split(X, y, test_size = 0.3, random_state =75)\n",
    "#pca = PCA(n_components = 50)\n",
    "#X_train = pca.fit_transform(X_train)\n",
    "#X_test = pca.transform(X_test)\n",
    "classifier = KNeighborsClassifier(n_neighbors=12)\n",
    "classifier.fit(X_train, y_train)\n",
    "    \n",
    "y_pred = classifier.predict(X_test)\n",
    "    \n",
    "accuracy = accuracy_score(y_test, y_pred)\n",
    "    #print('Accuracy: %f' % accuracy)\n",
    "    # precision tp / (tp + fp)\n",
    "precision = precision_score(y_test, y_pred,average='micro')\n",
    "    #print('Precision: %f' % precision)\n",
    "    # recall: tp / (tp + fn)\n",
    "recall = recall_score(y_test, y_pred, average='micro')\n",
    "    #print('Recall: %f' % recall)\n",
    "    # f1: 2 tp / (2 tp + fp + fn)\n",
    "f1 = f1_score(y_test, y_pred,  average='micro')\n",
    "print(accuracy,\",\",precision,\",\",recall,\",\",f1,\",\")"
   ]
  },
  {
   "cell_type": "code",
   "execution_count": 9,
   "metadata": {},
   "outputs": [
    {
     "data": {
      "text/plain": [
       "array([[209,   2,  38,  77],\n",
       "       [  2, 121,  52, 140],\n",
       "       [  2,   8, 101, 200],\n",
       "       [  0,   6,  87, 201]], dtype=int64)"
      ]
     },
     "execution_count": 9,
     "metadata": {},
     "output_type": "execute_result"
    }
   ],
   "source": [
    "# making confusion matrix between\n",
    "#  test set of Y and predicted value.\n",
    "from sklearn.metrics import confusion_matrix\n",
    " \n",
    "cm = confusion_matrix(y_test, y_pred)\n",
    "cm"
   ]
  },
  {
   "cell_type": "code",
   "execution_count": 10,
   "metadata": {},
   "outputs": [
    {
     "name": "stdout",
     "output_type": "stream",
     "text": [
      "Precision: 0.507\n",
      "Recall: 0.507\n",
      "Accuracy: 0.507\n",
      "F1 Score:0.507\n"
     ]
    }
   ],
   "source": [
    "from sklearn.metrics import precision_score, recall_score, f1_score, accuracy_score\n",
    "print('Precision: %.3f' % precision_score(y_test, y_pred, average='micro')) \n",
    "print('Recall: %.3f' % recall_score(y_test, y_pred, average='micro'))\n",
    "print('Accuracy: %.3f' % accuracy_score(y_test, y_pred))\n",
    "print('F1 Score:%.3f' % f1_score(y_test, y_pred,  average='micro'))"
   ]
  },
  {
   "cell_type": "code",
   "execution_count": 11,
   "metadata": {},
   "outputs": [],
   "source": [
    "import numpy as np\n",
    "cm=np.transpose( np.transpose(cm) / cm.astype(np.float).sum(axis=1) )"
   ]
  },
  {
   "cell_type": "code",
   "execution_count": 12,
   "metadata": {},
   "outputs": [
    {
     "data": {
      "text/plain": [
       "array([[0.64110429, 0.00613497, 0.11656442, 0.23619632],\n",
       "       [0.00634921, 0.38412698, 0.16507937, 0.44444444],\n",
       "       [0.00643087, 0.02572347, 0.32475884, 0.64308682],\n",
       "       [0.        , 0.02040816, 0.29591837, 0.68367347]])"
      ]
     },
     "execution_count": 12,
     "metadata": {},
     "output_type": "execute_result"
    }
   ],
   "source": [
    "cm"
   ]
  },
  {
   "cell_type": "code",
   "execution_count": 13,
   "metadata": {},
   "outputs": [],
   "source": [
    "cm = pd.DataFrame(cm,\n",
    "                     index = ['LAHV','HAHV','LALV','HALV'], \n",
    "                     columns = ['LAHV','HAHV','LALV','HALV'])"
   ]
  },
  {
   "cell_type": "code",
   "execution_count": 14,
   "metadata": {},
   "outputs": [
    {
     "data": {
      "text/html": [
       "<div>\n",
       "<style scoped>\n",
       "    .dataframe tbody tr th:only-of-type {\n",
       "        vertical-align: middle;\n",
       "    }\n",
       "\n",
       "    .dataframe tbody tr th {\n",
       "        vertical-align: top;\n",
       "    }\n",
       "\n",
       "    .dataframe thead th {\n",
       "        text-align: right;\n",
       "    }\n",
       "</style>\n",
       "<table border=\"1\" class=\"dataframe\">\n",
       "  <thead>\n",
       "    <tr style=\"text-align: right;\">\n",
       "      <th></th>\n",
       "      <th>LAHV</th>\n",
       "      <th>HAHV</th>\n",
       "      <th>LALV</th>\n",
       "      <th>HALV</th>\n",
       "    </tr>\n",
       "  </thead>\n",
       "  <tbody>\n",
       "    <tr>\n",
       "      <th>LAHV</th>\n",
       "      <td>0.641104</td>\n",
       "      <td>0.006135</td>\n",
       "      <td>0.116564</td>\n",
       "      <td>0.236196</td>\n",
       "    </tr>\n",
       "    <tr>\n",
       "      <th>HAHV</th>\n",
       "      <td>0.006349</td>\n",
       "      <td>0.384127</td>\n",
       "      <td>0.165079</td>\n",
       "      <td>0.444444</td>\n",
       "    </tr>\n",
       "    <tr>\n",
       "      <th>LALV</th>\n",
       "      <td>0.006431</td>\n",
       "      <td>0.025723</td>\n",
       "      <td>0.324759</td>\n",
       "      <td>0.643087</td>\n",
       "    </tr>\n",
       "    <tr>\n",
       "      <th>HALV</th>\n",
       "      <td>0.000000</td>\n",
       "      <td>0.020408</td>\n",
       "      <td>0.295918</td>\n",
       "      <td>0.683673</td>\n",
       "    </tr>\n",
       "  </tbody>\n",
       "</table>\n",
       "</div>"
      ],
      "text/plain": [
       "          LAHV      HAHV      LALV      HALV\n",
       "LAHV  0.641104  0.006135  0.116564  0.236196\n",
       "HAHV  0.006349  0.384127  0.165079  0.444444\n",
       "LALV  0.006431  0.025723  0.324759  0.643087\n",
       "HALV  0.000000  0.020408  0.295918  0.683673"
      ]
     },
     "execution_count": 14,
     "metadata": {},
     "output_type": "execute_result"
    }
   ],
   "source": [
    "cm"
   ]
  },
  {
   "cell_type": "code",
   "execution_count": 15,
   "metadata": {},
   "outputs": [
    {
     "data": {
      "text/plain": [
       "array([1, 3, 3, ..., 3, 0, 2], dtype=int64)"
      ]
     },
     "execution_count": 15,
     "metadata": {},
     "output_type": "execute_result"
    }
   ],
   "source": [
    "y_test"
   ]
  },
  {
   "cell_type": "code",
   "execution_count": 16,
   "metadata": {},
   "outputs": [
    {
     "data": {
      "image/png": "[encoded data removed]",
      "text/plain": [
       "<Figure size 432x288 with 2 Axes>"
      ]
     },
     "metadata": {
      "needs_background": "light"
     },
     "output_type": "display_data"
    }
   ],
   "source": [
    "import numpy as np\n",
    "import seaborn as sns\n",
    "import matplotlib.pyplot as plt\n",
    "ax=sns.heatmap(cm, annot=True, fmt=\"0.3f\", annot_kws={\"size\": 16})\n",
    "bottom, top = ax.get_ylim()\n",
    "ax.set_ylim(bottom+0.45, top-0.4)\n",
    "plt.xlabel(\"Predicted labels\", fontsize=14)\n",
    "plt.ylabel(\"True labels\", fontsize=14)\n",
    "#plt.figure(figsize=(10,7))\n",
    "#plt.savefig(\"hmwscalingall.png\", dpi=300)\n",
    "plt.show()"
   ]
  },
  {
   "cell_type": "code",
   "execution_count": null,
   "metadata": {},
   "outputs": [],
   "source": []
  },
  {
   "cell_type": "code",
   "execution_count": null,
   "metadata": {},
   "outputs": [],
   "source": []
  }
 ],
 "metadata": {
  "kernelspec": {
   "display_name": "Python 3",
   "language": "python",
   "name": "python3"
  },
  "language_info": {
   "codemirror_mode": {
    "name": "ipython",
    "version": 3
   },
   "file_extension": ".py",
   "mimetype": "text/x-python",
   "name": "python",
   "nbconvert_exporter": "python",
   "pygments_lexer": "ipython3",
   "version": "3.8.8"
  }
 },
 "nbformat": 4,
 "nbformat_minor": 4
}
