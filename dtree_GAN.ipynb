{
 "cells": [
  {
   "cell_type": "code",
   "execution_count": 1,
   "metadata": {},
   "outputs": [],
   "source": [
    "import numpy as np\n",
    "import pandas as pd"
   ]
  },
  {
   "cell_type": "code",
   "execution_count": 2,
   "metadata": {},
   "outputs": [],
   "source": [
    "df=pd.read_csv(\"augmented_GSR_ECG_EEG_DATA(CTGAN).csv\")"
   ]
  },
  {
   "cell_type": "code",
   "execution_count": 3,
   "metadata": {},
   "outputs": [
    {
     "data": {
      "text/html": [
       "<div>\n",
       "<style scoped>\n",
       "    .dataframe tbody tr th:only-of-type {\n",
       "        vertical-align: middle;\n",
       "    }\n",
       "\n",
       "    .dataframe tbody tr th {\n",
       "        vertical-align: top;\n",
       "    }\n",
       "\n",
       "    .dataframe thead th {\n",
       "        text-align: right;\n",
       "    }\n",
       "</style>\n",
       "<table border=\"1\" class=\"dataframe\">\n",
       "  <thead>\n",
       "    <tr style=\"text-align: right;\">\n",
       "      <th></th>\n",
       "      <th>subject_id</th>\n",
       "      <th>case_id</th>\n",
       "      <th>label_Arousal</th>\n",
       "      <th>label_Valence</th>\n",
       "      <th>Label</th>\n",
       "      <th>Labell</th>\n",
       "      <th>GSR_0</th>\n",
       "      <th>GSR_1</th>\n",
       "      <th>GSR_2</th>\n",
       "      <th>GSR_3</th>\n",
       "      <th>...</th>\n",
       "      <th>EEG_78</th>\n",
       "      <th>EEG_79</th>\n",
       "      <th>EEG_80</th>\n",
       "      <th>EEG_81</th>\n",
       "      <th>EEG_82</th>\n",
       "      <th>EEG_83</th>\n",
       "      <th>EEG_84</th>\n",
       "      <th>EEG_85</th>\n",
       "      <th>EEG_86</th>\n",
       "      <th>EEG_87</th>\n",
       "    </tr>\n",
       "  </thead>\n",
       "  <tbody>\n",
       "    <tr>\n",
       "      <th>0</th>\n",
       "      <td>0</td>\n",
       "      <td>0</td>\n",
       "      <td>1</td>\n",
       "      <td>1</td>\n",
       "      <td>HAHV</td>\n",
       "      <td>3</td>\n",
       "      <td>-0.277512</td>\n",
       "      <td>-0.029699</td>\n",
       "      <td>-0.446231</td>\n",
       "      <td>0.361831</td>\n",
       "      <td>...</td>\n",
       "      <td>-0.411472</td>\n",
       "      <td>-0.619955</td>\n",
       "      <td>-0.135081</td>\n",
       "      <td>-0.132510</td>\n",
       "      <td>0.860934</td>\n",
       "      <td>0.027133</td>\n",
       "      <td>0.490970</td>\n",
       "      <td>1.337359</td>\n",
       "      <td>-0.025029</td>\n",
       "      <td>1.120726</td>\n",
       "    </tr>\n",
       "    <tr>\n",
       "      <th>1</th>\n",
       "      <td>0</td>\n",
       "      <td>1</td>\n",
       "      <td>1</td>\n",
       "      <td>1</td>\n",
       "      <td>HAHV</td>\n",
       "      <td>3</td>\n",
       "      <td>-0.304174</td>\n",
       "      <td>1.088844</td>\n",
       "      <td>0.251643</td>\n",
       "      <td>0.253233</td>\n",
       "      <td>...</td>\n",
       "      <td>-0.412092</td>\n",
       "      <td>0.070994</td>\n",
       "      <td>-0.053708</td>\n",
       "      <td>-0.237470</td>\n",
       "      <td>0.509355</td>\n",
       "      <td>0.026983</td>\n",
       "      <td>1.307456</td>\n",
       "      <td>0.468313</td>\n",
       "      <td>0.447794</td>\n",
       "      <td>0.319481</td>\n",
       "    </tr>\n",
       "    <tr>\n",
       "      <th>2</th>\n",
       "      <td>0</td>\n",
       "      <td>2</td>\n",
       "      <td>-1</td>\n",
       "      <td>1</td>\n",
       "      <td>LAHV</td>\n",
       "      <td>1</td>\n",
       "      <td>-0.273032</td>\n",
       "      <td>-1.803324</td>\n",
       "      <td>0.034562</td>\n",
       "      <td>-0.469988</td>\n",
       "      <td>...</td>\n",
       "      <td>-0.412283</td>\n",
       "      <td>0.016873</td>\n",
       "      <td>-0.077167</td>\n",
       "      <td>0.004746</td>\n",
       "      <td>0.287991</td>\n",
       "      <td>0.031422</td>\n",
       "      <td>0.590245</td>\n",
       "      <td>2.206405</td>\n",
       "      <td>0.058303</td>\n",
       "      <td>1.521349</td>\n",
       "    </tr>\n",
       "    <tr>\n",
       "      <th>3</th>\n",
       "      <td>0</td>\n",
       "      <td>3</td>\n",
       "      <td>1</td>\n",
       "      <td>-1</td>\n",
       "      <td>HALV</td>\n",
       "      <td>2</td>\n",
       "      <td>-0.245539</td>\n",
       "      <td>-0.498300</td>\n",
       "      <td>-0.308101</td>\n",
       "      <td>0.120249</td>\n",
       "      <td>...</td>\n",
       "      <td>-0.412052</td>\n",
       "      <td>-0.591872</td>\n",
       "      <td>-0.178766</td>\n",
       "      <td>0.820206</td>\n",
       "      <td>2.742531</td>\n",
       "      <td>0.027683</td>\n",
       "      <td>0.900226</td>\n",
       "      <td>-0.835257</td>\n",
       "      <td>0.814336</td>\n",
       "      <td>-0.882388</td>\n",
       "    </tr>\n",
       "    <tr>\n",
       "      <th>4</th>\n",
       "      <td>0</td>\n",
       "      <td>4</td>\n",
       "      <td>1</td>\n",
       "      <td>1</td>\n",
       "      <td>HAHV</td>\n",
       "      <td>3</td>\n",
       "      <td>-0.272976</td>\n",
       "      <td>0.069360</td>\n",
       "      <td>0.587133</td>\n",
       "      <td>-0.593375</td>\n",
       "      <td>...</td>\n",
       "      <td>-0.409223</td>\n",
       "      <td>0.136497</td>\n",
       "      <td>-0.078865</td>\n",
       "      <td>0.150075</td>\n",
       "      <td>-0.350059</td>\n",
       "      <td>0.006795</td>\n",
       "      <td>0.977215</td>\n",
       "      <td>0.468313</td>\n",
       "      <td>-0.007352</td>\n",
       "      <td>0.720103</td>\n",
       "    </tr>\n",
       "    <tr>\n",
       "      <th>...</th>\n",
       "      <td>...</td>\n",
       "      <td>...</td>\n",
       "      <td>...</td>\n",
       "      <td>...</td>\n",
       "      <td>...</td>\n",
       "      <td>...</td>\n",
       "      <td>...</td>\n",
       "      <td>...</td>\n",
       "      <td>...</td>\n",
       "      <td>...</td>\n",
       "      <td>...</td>\n",
       "      <td>...</td>\n",
       "      <td>...</td>\n",
       "      <td>...</td>\n",
       "      <td>...</td>\n",
       "      <td>...</td>\n",
       "      <td>...</td>\n",
       "      <td>...</td>\n",
       "      <td>...</td>\n",
       "      <td>...</td>\n",
       "      <td>...</td>\n",
       "    </tr>\n",
       "    <tr>\n",
       "      <th>4147</th>\n",
       "      <td>60</td>\n",
       "      <td>0</td>\n",
       "      <td>-1</td>\n",
       "      <td>-1</td>\n",
       "      <td>LALV</td>\n",
       "      <td>0</td>\n",
       "      <td>0.106004</td>\n",
       "      <td>4.595566</td>\n",
       "      <td>0.377207</td>\n",
       "      <td>-0.883623</td>\n",
       "      <td>...</td>\n",
       "      <td>-0.609669</td>\n",
       "      <td>1.693332</td>\n",
       "      <td>0.048878</td>\n",
       "      <td>-2.578984</td>\n",
       "      <td>-1.657770</td>\n",
       "      <td>10.008252</td>\n",
       "      <td>-0.571065</td>\n",
       "      <td>-1.025854</td>\n",
       "      <td>-1.480611</td>\n",
       "      <td>-1.557190</td>\n",
       "    </tr>\n",
       "    <tr>\n",
       "      <th>4148</th>\n",
       "      <td>69</td>\n",
       "      <td>28</td>\n",
       "      <td>-1</td>\n",
       "      <td>-1</td>\n",
       "      <td>LALV</td>\n",
       "      <td>0</td>\n",
       "      <td>0.517039</td>\n",
       "      <td>-0.127010</td>\n",
       "      <td>0.367402</td>\n",
       "      <td>-1.839187</td>\n",
       "      <td>...</td>\n",
       "      <td>0.047088</td>\n",
       "      <td>-0.751995</td>\n",
       "      <td>0.437553</td>\n",
       "      <td>-0.938379</td>\n",
       "      <td>-0.913061</td>\n",
       "      <td>-2.264056</td>\n",
       "      <td>-1.841320</td>\n",
       "      <td>-0.744898</td>\n",
       "      <td>2.654817</td>\n",
       "      <td>-1.162691</td>\n",
       "    </tr>\n",
       "    <tr>\n",
       "      <th>4149</th>\n",
       "      <td>71</td>\n",
       "      <td>4</td>\n",
       "      <td>-1</td>\n",
       "      <td>-1</td>\n",
       "      <td>LALV</td>\n",
       "      <td>0</td>\n",
       "      <td>0.092026</td>\n",
       "      <td>2.086575</td>\n",
       "      <td>7.079178</td>\n",
       "      <td>-2.130997</td>\n",
       "      <td>...</td>\n",
       "      <td>-1.455639</td>\n",
       "      <td>4.053909</td>\n",
       "      <td>0.158870</td>\n",
       "      <td>-2.491957</td>\n",
       "      <td>-1.258471</td>\n",
       "      <td>12.425953</td>\n",
       "      <td>-0.638952</td>\n",
       "      <td>-0.528315</td>\n",
       "      <td>0.025505</td>\n",
       "      <td>-0.312077</td>\n",
       "    </tr>\n",
       "    <tr>\n",
       "      <th>4150</th>\n",
       "      <td>73</td>\n",
       "      <td>39</td>\n",
       "      <td>-1</td>\n",
       "      <td>-1</td>\n",
       "      <td>LALV</td>\n",
       "      <td>0</td>\n",
       "      <td>1.266645</td>\n",
       "      <td>4.263907</td>\n",
       "      <td>-0.291832</td>\n",
       "      <td>-2.310832</td>\n",
       "      <td>...</td>\n",
       "      <td>-0.457951</td>\n",
       "      <td>4.011472</td>\n",
       "      <td>0.310096</td>\n",
       "      <td>-3.449309</td>\n",
       "      <td>-2.113650</td>\n",
       "      <td>9.760149</td>\n",
       "      <td>-1.639210</td>\n",
       "      <td>-1.061141</td>\n",
       "      <td>-0.263464</td>\n",
       "      <td>-0.851110</td>\n",
       "    </tr>\n",
       "    <tr>\n",
       "      <th>4151</th>\n",
       "      <td>24</td>\n",
       "      <td>-11</td>\n",
       "      <td>-1</td>\n",
       "      <td>-1</td>\n",
       "      <td>LALV</td>\n",
       "      <td>0</td>\n",
       "      <td>0.269523</td>\n",
       "      <td>1.058169</td>\n",
       "      <td>0.860568</td>\n",
       "      <td>-1.845538</td>\n",
       "      <td>...</td>\n",
       "      <td>-0.317283</td>\n",
       "      <td>4.333027</td>\n",
       "      <td>0.486064</td>\n",
       "      <td>0.375072</td>\n",
       "      <td>-1.566504</td>\n",
       "      <td>0.478007</td>\n",
       "      <td>0.892796</td>\n",
       "      <td>-1.788341</td>\n",
       "      <td>-1.591852</td>\n",
       "      <td>0.641278</td>\n",
       "    </tr>\n",
       "  </tbody>\n",
       "</table>\n",
       "<p>4152 rows × 137 columns</p>\n",
       "</div>"
      ],
      "text/plain": [
       "      subject_id  case_id  label_Arousal  label_Valence Label  Labell  \\\n",
       "0              0        0              1              1  HAHV       3   \n",
       "1              0        1              1              1  HAHV       3   \n",
       "2              0        2             -1              1  LAHV       1   \n",
       "3              0        3              1             -1  HALV       2   \n",
       "4              0        4              1              1  HAHV       3   \n",
       "...          ...      ...            ...            ...   ...     ...   \n",
       "4147          60        0             -1             -1  LALV       0   \n",
       "4148          69       28             -1             -1  LALV       0   \n",
       "4149          71        4             -1             -1  LALV       0   \n",
       "4150          73       39             -1             -1  LALV       0   \n",
       "4151          24      -11             -1             -1  LALV       0   \n",
       "\n",
       "         GSR_0     GSR_1     GSR_2     GSR_3  ...    EEG_78    EEG_79  \\\n",
       "0    -0.277512 -0.029699 -0.446231  0.361831  ... -0.411472 -0.619955   \n",
       "1    -0.304174  1.088844  0.251643  0.253233  ... -0.412092  0.070994   \n",
       "2    -0.273032 -1.803324  0.034562 -0.469988  ... -0.412283  0.016873   \n",
       "3    -0.245539 -0.498300 -0.308101  0.120249  ... -0.412052 -0.591872   \n",
       "4    -0.272976  0.069360  0.587133 -0.593375  ... -0.409223  0.136497   \n",
       "...        ...       ...       ...       ...  ...       ...       ...   \n",
       "4147  0.106004  4.595566  0.377207 -0.883623  ... -0.609669  1.693332   \n",
       "4148  0.517039 -0.127010  0.367402 -1.839187  ...  0.047088 -0.751995   \n",
       "4149  0.092026  2.086575  7.079178 -2.130997  ... -1.455639  4.053909   \n",
       "4150  1.266645  4.263907 -0.291832 -2.310832  ... -0.457951  4.011472   \n",
       "4151  0.269523  1.058169  0.860568 -1.845538  ... -0.317283  4.333027   \n",
       "\n",
       "        EEG_80    EEG_81    EEG_82     EEG_83    EEG_84    EEG_85    EEG_86  \\\n",
       "0    -0.135081 -0.132510  0.860934   0.027133  0.490970  1.337359 -0.025029   \n",
       "1    -0.053708 -0.237470  0.509355   0.026983  1.307456  0.468313  0.447794   \n",
       "2    -0.077167  0.004746  0.287991   0.031422  0.590245  2.206405  0.058303   \n",
       "3    -0.178766  0.820206  2.742531   0.027683  0.900226 -0.835257  0.814336   \n",
       "4    -0.078865  0.150075 -0.350059   0.006795  0.977215  0.468313 -0.007352   \n",
       "...        ...       ...       ...        ...       ...       ...       ...   \n",
       "4147  0.048878 -2.578984 -1.657770  10.008252 -0.571065 -1.025854 -1.480611   \n",
       "4148  0.437553 -0.938379 -0.913061  -2.264056 -1.841320 -0.744898  2.654817   \n",
       "4149  0.158870 -2.491957 -1.258471  12.425953 -0.638952 -0.528315  0.025505   \n",
       "4150  0.310096 -3.449309 -2.113650   9.760149 -1.639210 -1.061141 -0.263464   \n",
       "4151  0.486064  0.375072 -1.566504   0.478007  0.892796 -1.788341 -1.591852   \n",
       "\n",
       "        EEG_87  \n",
       "0     1.120726  \n",
       "1     0.319481  \n",
       "2     1.521349  \n",
       "3    -0.882388  \n",
       "4     0.720103  \n",
       "...        ...  \n",
       "4147 -1.557190  \n",
       "4148 -1.162691  \n",
       "4149 -0.312077  \n",
       "4150 -0.851110  \n",
       "4151  0.641278  \n",
       "\n",
       "[4152 rows x 137 columns]"
      ]
     },
     "execution_count": 3,
     "metadata": {},
     "output_type": "execute_result"
    }
   ],
   "source": [
    "df"
   ]
  },
  {
   "cell_type": "code",
   "execution_count": 4,
   "metadata": {},
   "outputs": [],
   "source": [
    "# distributing the dataset into two components X and Y\n",
    "X = df.iloc[:, 6:105].values"
   ]
  },
  {
   "cell_type": "code",
   "execution_count": 5,
   "metadata": {},
   "outputs": [
    {
     "data": {
      "text/plain": [
       "array([[-0.27751245, -0.02969867, -0.44623097, ...,  0.94661264,\n",
       "         0.07743937,  0.8189292 ],\n",
       "       [-0.30417424,  1.08884353,  0.25164327, ...,  0.58898326,\n",
       "         0.72115833,  0.48159414],\n",
       "       [-0.27303202, -1.80332428,  0.03456197, ...,  1.30424203,\n",
       "         0.24581004,  1.15626427],\n",
       "       ...,\n",
       "       [ 0.09202605,  2.08657468,  7.07917814, ..., -1.57036785,\n",
       "         0.65951658, -1.734643  ],\n",
       "       [ 1.26664476,  4.26390743, -0.29183218, ..., -1.6965403 ,\n",
       "         0.6580191 , -1.68265812],\n",
       "       [ 0.26952264,  1.0581689 ,  0.860568  , ...,  1.10481873,\n",
       "        -0.47166773, -1.37229874]])"
      ]
     },
     "execution_count": 5,
     "metadata": {},
     "output_type": "execute_result"
    }
   ],
   "source": [
    "X"
   ]
  },
  {
   "cell_type": "code",
   "execution_count": 6,
   "metadata": {},
   "outputs": [],
   "source": [
    "y = df.iloc[:, 5].values"
   ]
  },
  {
   "cell_type": "code",
   "execution_count": 7,
   "metadata": {},
   "outputs": [
    {
     "data": {
      "text/plain": [
       "array([3, 3, 1, ..., 0, 0, 0], dtype=int64)"
      ]
     },
     "execution_count": 7,
     "metadata": {},
     "output_type": "execute_result"
    }
   ],
   "source": [
    "y"
   ]
  },
  {
   "cell_type": "code",
   "execution_count": 8,
   "metadata": {},
   "outputs": [],
   "source": [
    "# performing preprocessing part\n",
    "from sklearn.preprocessing import StandardScaler\n",
    "sc = StandardScaler()\n",
    " \n",
    "X = sc.fit_transform(X)"
   ]
  },
  {
   "cell_type": "code",
   "execution_count": 9,
   "metadata": {
    "scrolled": true
   },
   "outputs": [
    {
     "name": "stdout",
     "output_type": "stream",
     "text": [
      "0.6195826645264848 , 0.6195826645264848 , 0.6195826645264848 , 0.6195826645264848 ,\n"
     ]
    }
   ],
   "source": [
    "# Splitting the X and Y into the\n",
    "# Training set and Testing set\n",
    "from sklearn.decomposition import PCA\n",
    "from sklearn.model_selection import train_test_split\n",
    "from sklearn.tree import DecisionTreeClassifier \n",
    "from sklearn.svm import SVC \n",
    "from sklearn.metrics import accuracy_score\n",
    "from sklearn.metrics import precision_score\n",
    "from sklearn.metrics import recall_score\n",
    "from sklearn.metrics import f1_score\n",
    "from sklearn.metrics import cohen_kappa_score\n",
    "from sklearn.metrics import roc_auc_score\n",
    "from sklearn.metrics import confusion_matrix\n",
    "\n",
    "\n",
    "#for i in range(0,100):\n",
    "\n",
    " \n",
    "X_train, X_test, y_train, y_test = train_test_split(X, y, test_size = 0.3, random_state = 4)\n",
    "#pca = PCA(n_components = 50)\n",
    "#X_train = pca.fit_transform(X_train)\n",
    "#X_test = pca.transform(X_test)\n",
    "classifier = DecisionTreeClassifier(random_state=0, max_depth=2)\n",
    "classifier.fit(X_train, y_train)\n",
    "#classifier = SVC(kernel='linear')\n",
    "#classifier.fit(X_train, y_train)    \n",
    "y_pred = classifier.predict(X_test)\n",
    "    \n",
    "accuracy = accuracy_score(y_test, y_pred)\n",
    "    #print('Accuracy: %f' % accuracy)\n",
    "    # precision tp / (tp + fp)\n",
    "precision = precision_score(y_test, y_pred,average='micro')\n",
    "    #print('Precision: %f' % precision)\n",
    "    # recall: tp / (tp + fn)\n",
    "recall = recall_score(y_test, y_pred, average='micro')\n",
    "    #print('Recall: %f' % recall)\n",
    "    # f1: 2 tp / (2 tp + fp + fn)\n",
    "f1 = f1_score(y_test, y_pred,  average='micro')\n",
    "print(accuracy,\",\",precision,\",\",recall,\",\",f1,\",\")"
   ]
  },
  {
   "cell_type": "code",
   "execution_count": 10,
   "metadata": {},
   "outputs": [
    {
     "data": {
      "text/plain": [
       "array([[264,   2,   1,  65],\n",
       "       [ 13, 199,   0,  93],\n",
       "       [ 26,  10,  20, 244],\n",
       "       [ 15,   5,   0, 289]], dtype=int64)"
      ]
     },
     "execution_count": 10,
     "metadata": {},
     "output_type": "execute_result"
    }
   ],
   "source": [
    "# making confusion matrix between\n",
    "#  test set of Y and predicted value.\n",
    "from sklearn.metrics import confusion_matrix\n",
    " \n",
    "cm = confusion_matrix(y_test, y_pred)\n",
    "cm"
   ]
  },
  {
   "cell_type": "code",
   "execution_count": 11,
   "metadata": {},
   "outputs": [
    {
     "name": "stdout",
     "output_type": "stream",
     "text": [
      "Precision: 0.620\n",
      "Recall: 0.620\n",
      "Accuracy: 0.620\n",
      "F1:0.620\n"
     ]
    }
   ],
   "source": [
    "from sklearn.metrics import precision_score, recall_score, f1_score, accuracy_score\n",
    "print('Precision: %.3f' % precision_score(y_test, y_pred, average='micro')) \n",
    "print('Recall: %.3f' % recall_score(y_test, y_pred, average='micro'))\n",
    "print('Accuracy: %.3f' % accuracy_score(y_test, y_pred))\n",
    "print('F1:%.3f'% f1_score(y_test, y_pred,  average='micro'))"
   ]
  },
  {
   "cell_type": "code",
   "execution_count": 12,
   "metadata": {},
   "outputs": [],
   "source": [
    "import numpy as np\n",
    "cm=np.transpose( np.transpose(cm) / cm.astype(np.float).sum(axis=1) )"
   ]
  },
  {
   "cell_type": "code",
   "execution_count": 13,
   "metadata": {},
   "outputs": [
    {
     "data": {
      "text/plain": [
       "array([[0.79518072, 0.0060241 , 0.00301205, 0.19578313],\n",
       "       [0.04262295, 0.65245902, 0.        , 0.30491803],\n",
       "       [0.08666667, 0.03333333, 0.06666667, 0.81333333],\n",
       "       [0.04854369, 0.01618123, 0.        , 0.93527508]])"
      ]
     },
     "execution_count": 13,
     "metadata": {},
     "output_type": "execute_result"
    }
   ],
   "source": [
    "cm"
   ]
  },
  {
   "cell_type": "code",
   "execution_count": 14,
   "metadata": {},
   "outputs": [],
   "source": [
    "cm = pd.DataFrame(cm,\n",
    "                     index = ['LAHV','LALV','HAHV','HALV'], \n",
    "                     columns = ['LAHV','LALV','HAHV','HALV'])"
   ]
  },
  {
   "cell_type": "code",
   "execution_count": 15,
   "metadata": {},
   "outputs": [
    {
     "data": {
      "text/html": [
       "<div>\n",
       "<style scoped>\n",
       "    .dataframe tbody tr th:only-of-type {\n",
       "        vertical-align: middle;\n",
       "    }\n",
       "\n",
       "    .dataframe tbody tr th {\n",
       "        vertical-align: top;\n",
       "    }\n",
       "\n",
       "    .dataframe thead th {\n",
       "        text-align: right;\n",
       "    }\n",
       "</style>\n",
       "<table border=\"1\" class=\"dataframe\">\n",
       "  <thead>\n",
       "    <tr style=\"text-align: right;\">\n",
       "      <th></th>\n",
       "      <th>LAHV</th>\n",
       "      <th>LALV</th>\n",
       "      <th>HAHV</th>\n",
       "      <th>HALV</th>\n",
       "    </tr>\n",
       "  </thead>\n",
       "  <tbody>\n",
       "    <tr>\n",
       "      <th>LAHV</th>\n",
       "      <td>0.795181</td>\n",
       "      <td>0.006024</td>\n",
       "      <td>0.003012</td>\n",
       "      <td>0.195783</td>\n",
       "    </tr>\n",
       "    <tr>\n",
       "      <th>LALV</th>\n",
       "      <td>0.042623</td>\n",
       "      <td>0.652459</td>\n",
       "      <td>0.000000</td>\n",
       "      <td>0.304918</td>\n",
       "    </tr>\n",
       "    <tr>\n",
       "      <th>HAHV</th>\n",
       "      <td>0.086667</td>\n",
       "      <td>0.033333</td>\n",
       "      <td>0.066667</td>\n",
       "      <td>0.813333</td>\n",
       "    </tr>\n",
       "    <tr>\n",
       "      <th>HALV</th>\n",
       "      <td>0.048544</td>\n",
       "      <td>0.016181</td>\n",
       "      <td>0.000000</td>\n",
       "      <td>0.935275</td>\n",
       "    </tr>\n",
       "  </tbody>\n",
       "</table>\n",
       "</div>"
      ],
      "text/plain": [
       "          LAHV      LALV      HAHV      HALV\n",
       "LAHV  0.795181  0.006024  0.003012  0.195783\n",
       "LALV  0.042623  0.652459  0.000000  0.304918\n",
       "HAHV  0.086667  0.033333  0.066667  0.813333\n",
       "HALV  0.048544  0.016181  0.000000  0.935275"
      ]
     },
     "execution_count": 15,
     "metadata": {},
     "output_type": "execute_result"
    }
   ],
   "source": [
    "cm"
   ]
  },
  {
   "cell_type": "code",
   "execution_count": 16,
   "metadata": {},
   "outputs": [
    {
     "data": {
      "text/plain": [
       "array([2, 1, 0, ..., 2, 2, 3], dtype=int64)"
      ]
     },
     "execution_count": 16,
     "metadata": {},
     "output_type": "execute_result"
    }
   ],
   "source": [
    "y_test"
   ]
  },
  {
   "cell_type": "code",
   "execution_count": 17,
   "metadata": {},
   "outputs": [
    {
     "data": {
      "image/png": "[encoded data removed]",
      "text/plain": [
       "<Figure size 432x288 with 2 Axes>"
      ]
     },
     "metadata": {
      "needs_background": "light"
     },
     "output_type": "display_data"
    }
   ],
   "source": [
    "import numpy as np\n",
    "import seaborn as sns\n",
    "import matplotlib.pyplot as plt\n",
    "ax=sns.heatmap(cm, annot=True, fmt=\"0.3f\", annot_kws={\"size\": 16})\n",
    "bottom, top = ax.get_ylim()\n",
    "ax.set_ylim(bottom+0.45, top-0.4)\n",
    "plt.xlabel(\"Predicted labels\", fontsize=14)\n",
    "plt.ylabel(\"True labels\", fontsize=14)\n",
    "#plt.figure(figsize=(10,7))\n",
    "#plt.savefig(\"hmwscalingall.png\", dpi=300)\n",
    "plt.show()"
   ]
  },
  {
   "cell_type": "code",
   "execution_count": null,
   "metadata": {},
   "outputs": [],
   "source": []
  },
  {
   "cell_type": "code",
   "execution_count": null,
   "metadata": {},
   "outputs": [],
   "source": []
  },
  {
   "cell_type": "code",
   "execution_count": null,
   "metadata": {},
   "outputs": [],
   "source": []
  }
 ],
 "metadata": {
  "kernelspec": {
   "display_name": "Python 3",
   "language": "python",
   "name": "python3"
  },
  "language_info": {
   "codemirror_mode": {
    "name": "ipython",
    "version": 3
   },
   "file_extension": ".py",
   "mimetype": "text/x-python",
   "name": "python",
   "nbconvert_exporter": "python",
   "pygments_lexer": "ipython3",
   "version": "3.8.8"
  }
 },
 "nbformat": 4,
 "nbformat_minor": 4
}
