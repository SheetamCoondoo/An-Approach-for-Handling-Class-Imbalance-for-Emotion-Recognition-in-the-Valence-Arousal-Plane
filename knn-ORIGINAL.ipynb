{
 "cells": [
  {
   "cell_type": "code",
   "execution_count": 1,
   "metadata": {},
   "outputs": [],
   "source": [
    "import numpy as np\n",
    "import pandas as pd"
   ]
  },
  {
   "cell_type": "code",
   "execution_count": 2,
   "metadata": {},
   "outputs": [],
   "source": [
    "df=pd.read_csv(\"GSR_ECG_EEG_DATA.csv\")"
   ]
  },
  {
   "cell_type": "code",
   "execution_count": 3,
   "metadata": {},
   "outputs": [],
   "source": [
    "# distributing the dataset into two components X and Y\n",
    "X = df.iloc[:, 6:105].values"
   ]
  },
  {
   "cell_type": "code",
   "execution_count": 4,
   "metadata": {},
   "outputs": [
    {
     "data": {
      "text/plain": [
       "array([[-0.27751245, -0.02969867, -0.44623097, ...,  0.94661264,\n",
       "         0.07743937,  0.8189292 ],\n",
       "       [-0.30417424,  1.08884353,  0.25164327, ...,  0.58898326,\n",
       "         0.72115833,  0.48159414],\n",
       "       [-0.27303202, -1.80332428,  0.03456197, ...,  1.30424203,\n",
       "         0.24581004,  1.15626427],\n",
       "       ...,\n",
       "       [ 0.96626112,  2.16393804,  0.45133677, ..., -0.84153429,\n",
       "        -0.07109833, -0.86774612],\n",
       "       [ 1.01959974,  1.63792188,  0.26545592, ..., -0.84153429,\n",
       "        -0.06958129, -0.86774612],\n",
       "       [ 0.98258696, -0.2357149 , -0.27626619, ..., -0.84153429,\n",
       "        -0.06852557, -0.86774612]])"
      ]
     },
     "execution_count": 4,
     "metadata": {},
     "output_type": "execute_result"
    }
   ],
   "source": [
    "X"
   ]
  },
  {
   "cell_type": "code",
   "execution_count": 5,
   "metadata": {},
   "outputs": [],
   "source": [
    "y = df.iloc[:, 5].values"
   ]
  },
  {
   "cell_type": "code",
   "execution_count": 6,
   "metadata": {},
   "outputs": [
    {
     "data": {
      "text/plain": [
       "array([3, 3, 1, ..., 3, 2, 3], dtype=int64)"
      ]
     },
     "execution_count": 6,
     "metadata": {},
     "output_type": "execute_result"
    }
   ],
   "source": [
    "y"
   ]
  },
  {
   "cell_type": "code",
   "execution_count": 7,
   "metadata": {},
   "outputs": [],
   "source": [
    "# performing preprocessing part\n",
    "from sklearn.preprocessing import StandardScaler\n",
    "sc = StandardScaler()\n",
    " \n",
    "X = sc.fit_transform(X)"
   ]
  },
  {
   "cell_type": "code",
   "execution_count": 8,
   "metadata": {},
   "outputs": [
    {
     "data": {
      "text/plain": [
       "array([[-0.27751245, -0.02969867, -0.44623097, ...,  0.94661264,\n",
       "         0.07743937,  0.8189292 ],\n",
       "       [-0.30417424,  1.08884353,  0.25164327, ...,  0.58898326,\n",
       "         0.72115833,  0.48159414],\n",
       "       [-0.27303202, -1.80332428,  0.03456197, ...,  1.30424203,\n",
       "         0.24581004,  1.15626427],\n",
       "       ...,\n",
       "       [ 0.96626112,  2.16393804,  0.45133677, ..., -0.84153429,\n",
       "        -0.07109833, -0.86774612],\n",
       "       [ 1.01959974,  1.63792188,  0.26545592, ..., -0.84153429,\n",
       "        -0.06958129, -0.86774612],\n",
       "       [ 0.98258696, -0.2357149 , -0.27626619, ..., -0.84153429,\n",
       "        -0.06852557, -0.86774612]])"
      ]
     },
     "execution_count": 8,
     "metadata": {},
     "output_type": "execute_result"
    }
   ],
   "source": [
    "X"
   ]
  },
  {
   "cell_type": "code",
   "execution_count": 9,
   "metadata": {},
   "outputs": [
    {
     "name": "stdout",
     "output_type": "stream",
     "text": [
      "0.430622009569378 , 0.430622009569378 , 0.430622009569378 , 0.430622009569378 ,\n"
     ]
    }
   ],
   "source": [
    "# Splitting the X and Y into the\n",
    "# Training set and Testing set\n",
    "from sklearn.decomposition import PCA\n",
    "from sklearn.model_selection import train_test_split\n",
    "from sklearn.neighbors import KNeighborsClassifier \n",
    "from sklearn.metrics import accuracy_score\n",
    "from sklearn.metrics import precision_score\n",
    "from sklearn.metrics import recall_score\n",
    "from sklearn.metrics import f1_score\n",
    "from sklearn.metrics import cohen_kappa_score\n",
    "from sklearn.metrics import roc_auc_score\n",
    "from sklearn.metrics import confusion_matrix\n",
    "\n",
    "\n",
    "#for i in range(0,100):\n",
    "\n",
    " \n",
    "X_train, X_test, y_train, y_test = train_test_split(X, y, test_size = 0.3, random_state =75)\n",
    "#pca = PCA(n_components = 50)\n",
    "#X_train = pca.fit_transform(X_train)\n",
    "#X_test = pca.transform(X_test)\n",
    "classifier = KNeighborsClassifier(n_neighbors=12)\n",
    "classifier.fit(X_train, y_train)\n",
    "    \n",
    "y_pred = classifier.predict(X_test)\n",
    "    \n",
    "accuracy = accuracy_score(y_test, y_pred)\n",
    "    #print('Accuracy: %f' % accuracy)\n",
    "    # precision tp / (tp + fp)\n",
    "precision = precision_score(y_test, y_pred,average='micro')\n",
    "    #print('Precision: %f' % precision)\n",
    "    # recall: tp / (tp + fn)\n",
    "recall = recall_score(y_test, y_pred, average='micro')\n",
    "    #print('Recall: %f' % recall)\n",
    "    # f1: 2 tp / (2 tp + fp + fn)\n",
    "f1 = f1_score(y_test, y_pred,  average='micro')\n",
    "print(accuracy,\",\",precision,\",\",recall,\",\",f1,\",\")"
   ]
  },
  {
   "cell_type": "code",
   "execution_count": 10,
   "metadata": {},
   "outputs": [
    {
     "data": {
      "text/plain": [
       "array([[  0,   3,  11,  23],\n",
       "       [  0,   3,  22,  39],\n",
       "       [  0,   8,  76, 139],\n",
       "       [  1,  10, 101, 191]], dtype=int64)"
      ]
     },
     "execution_count": 10,
     "metadata": {},
     "output_type": "execute_result"
    }
   ],
   "source": [
    "# making confusion matrix between\n",
    "#  test set of Y and predicted value.\n",
    "from sklearn.metrics import confusion_matrix\n",
    " \n",
    "cm = confusion_matrix(y_test, y_pred)\n",
    "cm"
   ]
  },
  {
   "cell_type": "code",
   "execution_count": 11,
   "metadata": {},
   "outputs": [
    {
     "name": "stdout",
     "output_type": "stream",
     "text": [
      "Precision: 0.431\n",
      "Recall: 0.431\n",
      "Accuracy: 0.431\n",
      "F1 Score:0.431\n"
     ]
    }
   ],
   "source": [
    "from sklearn.metrics import precision_score, recall_score, f1_score, accuracy_score\n",
    "print('Precision: %.3f' % precision_score(y_test, y_pred, average='micro')) \n",
    "print('Recall: %.3f' % recall_score(y_test, y_pred, average='micro'))\n",
    "print('Accuracy: %.3f' % accuracy_score(y_test, y_pred))\n",
    "print('F1 Score:%.3f' % f1_score(y_test, y_pred,  average='micro'))"
   ]
  },
  {
   "cell_type": "code",
   "execution_count": 12,
   "metadata": {},
   "outputs": [],
   "source": [
    "import numpy as np\n",
    "cm=np.transpose( np.transpose(cm) / cm.astype(np.float).sum(axis=1) )"
   ]
  },
  {
   "cell_type": "code",
   "execution_count": 13,
   "metadata": {},
   "outputs": [
    {
     "data": {
      "text/plain": [
       "array([[0.        , 0.08108108, 0.2972973 , 0.62162162],\n",
       "       [0.        , 0.046875  , 0.34375   , 0.609375  ],\n",
       "       [0.        , 0.03587444, 0.34080717, 0.62331839],\n",
       "       [0.00330033, 0.0330033 , 0.33333333, 0.63036304]])"
      ]
     },
     "execution_count": 13,
     "metadata": {},
     "output_type": "execute_result"
    }
   ],
   "source": [
    "cm"
   ]
  },
  {
   "cell_type": "code",
   "execution_count": 14,
   "metadata": {},
   "outputs": [],
   "source": [
    "cm = pd.DataFrame(cm,\n",
    "                     index = ['LAHV','HAHV','LALV','HALV'], \n",
    "                     columns = ['LAHV','HAHV','LALV','HALV'])"
   ]
  },
  {
   "cell_type": "code",
   "execution_count": 15,
   "metadata": {},
   "outputs": [
    {
     "data": {
      "text/html": [
       "<div>\n",
       "<style scoped>\n",
       "    .dataframe tbody tr th:only-of-type {\n",
       "        vertical-align: middle;\n",
       "    }\n",
       "\n",
       "    .dataframe tbody tr th {\n",
       "        vertical-align: top;\n",
       "    }\n",
       "\n",
       "    .dataframe thead th {\n",
       "        text-align: right;\n",
       "    }\n",
       "</style>\n",
       "<table border=\"1\" class=\"dataframe\">\n",
       "  <thead>\n",
       "    <tr style=\"text-align: right;\">\n",
       "      <th></th>\n",
       "      <th>LAHV</th>\n",
       "      <th>HAHV</th>\n",
       "      <th>LALV</th>\n",
       "      <th>HALV</th>\n",
       "    </tr>\n",
       "  </thead>\n",
       "  <tbody>\n",
       "    <tr>\n",
       "      <th>LAHV</th>\n",
       "      <td>0.0000</td>\n",
       "      <td>0.081081</td>\n",
       "      <td>0.297297</td>\n",
       "      <td>0.621622</td>\n",
       "    </tr>\n",
       "    <tr>\n",
       "      <th>HAHV</th>\n",
       "      <td>0.0000</td>\n",
       "      <td>0.046875</td>\n",
       "      <td>0.343750</td>\n",
       "      <td>0.609375</td>\n",
       "    </tr>\n",
       "    <tr>\n",
       "      <th>LALV</th>\n",
       "      <td>0.0000</td>\n",
       "      <td>0.035874</td>\n",
       "      <td>0.340807</td>\n",
       "      <td>0.623318</td>\n",
       "    </tr>\n",
       "    <tr>\n",
       "      <th>HALV</th>\n",
       "      <td>0.0033</td>\n",
       "      <td>0.033003</td>\n",
       "      <td>0.333333</td>\n",
       "      <td>0.630363</td>\n",
       "    </tr>\n",
       "  </tbody>\n",
       "</table>\n",
       "</div>"
      ],
      "text/plain": [
       "        LAHV      HAHV      LALV      HALV\n",
       "LAHV  0.0000  0.081081  0.297297  0.621622\n",
       "HAHV  0.0000  0.046875  0.343750  0.609375\n",
       "LALV  0.0000  0.035874  0.340807  0.623318\n",
       "HALV  0.0033  0.033003  0.333333  0.630363"
      ]
     },
     "execution_count": 15,
     "metadata": {},
     "output_type": "execute_result"
    }
   ],
   "source": [
    "cm"
   ]
  },
  {
   "cell_type": "code",
   "execution_count": 16,
   "metadata": {},
   "outputs": [
    {
     "data": {
      "text/plain": [
       "array([2, 3, 3, 3, 2, 2, 3, 3, 1, 3, 1, 1, 3, 3, 3, 2, 3, 1, 3, 3, 0, 3,\n",
       "       1, 2, 2, 1, 2, 2, 1, 1, 2, 3, 3, 3, 0, 2, 3, 2, 1, 3, 3, 3, 3, 3,\n",
       "       3, 3, 3, 2, 3, 3, 3, 2, 0, 3, 2, 3, 3, 0, 3, 1, 0, 0, 3, 3, 3, 2,\n",
       "       3, 3, 3, 2, 2, 3, 0, 3, 3, 1, 3, 3, 3, 2, 2, 2, 1, 1, 2, 3, 2, 2,\n",
       "       2, 3, 1, 3, 3, 2, 3, 3, 2, 3, 3, 3, 3, 3, 3, 1, 2, 2, 2, 2, 3, 2,\n",
       "       1, 2, 3, 2, 2, 3, 0, 3, 2, 2, 3, 2, 3, 2, 1, 3, 3, 1, 2, 3, 0, 3,\n",
       "       3, 2, 3, 1, 1, 2, 3, 3, 3, 2, 3, 3, 1, 3, 3, 1, 2, 3, 2, 3, 3, 2,\n",
       "       3, 2, 3, 1, 3, 0, 2, 3, 3, 3, 2, 3, 3, 3, 3, 3, 2, 3, 3, 2, 2, 3,\n",
       "       3, 2, 1, 2, 1, 2, 2, 3, 1, 1, 2, 2, 3, 3, 0, 2, 2, 3, 3, 3, 3, 0,\n",
       "       1, 3, 3, 3, 3, 3, 0, 2, 2, 3, 3, 2, 3, 2, 2, 3, 3, 2, 2, 2, 3, 3,\n",
       "       0, 3, 2, 1, 1, 1, 0, 2, 3, 1, 3, 1, 3, 2, 3, 2, 3, 3, 3, 3, 2, 3,\n",
       "       2, 0, 2, 3, 3, 2, 2, 2, 0, 3, 2, 1, 0, 2, 2, 3, 1, 2, 2, 2, 3, 3,\n",
       "       1, 3, 2, 2, 3, 3, 2, 2, 2, 3, 3, 2, 3, 3, 3, 3, 2, 3, 2, 2, 2, 2,\n",
       "       3, 2, 2, 2, 0, 1, 2, 2, 3, 2, 1, 2, 3, 3, 1, 2, 3, 3, 3, 3, 0, 2,\n",
       "       2, 3, 0, 3, 1, 0, 3, 2, 0, 3, 3, 3, 2, 2, 2, 2, 2, 1, 2, 3, 2, 3,\n",
       "       2, 3, 3, 2, 2, 3, 2, 2, 2, 3, 2, 3, 3, 3, 3, 3, 3, 3, 2, 3, 3, 2,\n",
       "       2, 3, 2, 3, 2, 0, 3, 3, 3, 2, 3, 3, 1, 2, 0, 2, 3, 3, 2, 2, 3, 3,\n",
       "       3, 3, 0, 2, 2, 2, 1, 3, 2, 2, 2, 2, 2, 2, 3, 3, 2, 3, 3, 0, 3, 3,\n",
       "       2, 1, 2, 3, 2, 3, 1, 2, 3, 3, 0, 2, 2, 3, 3, 2, 3, 3, 2, 3, 3, 3,\n",
       "       3, 1, 3, 3, 2, 3, 2, 3, 3, 3, 3, 2, 2, 3, 1, 0, 2, 1, 3, 3, 2, 3,\n",
       "       3, 1, 2, 2, 3, 3, 3, 0, 2, 2, 2, 2, 2, 3, 3, 3, 1, 1, 3, 3, 1, 3,\n",
       "       2, 2, 2, 1, 2, 2, 2, 2, 2, 3, 2, 1, 2, 3, 2, 3, 2, 3, 3, 2, 3, 3,\n",
       "       2, 1, 2, 2, 3, 3, 3, 3, 2, 0, 2, 0, 1, 2, 3, 3, 2, 3, 3, 3, 2, 3,\n",
       "       3, 3, 3, 1, 2, 3, 2, 2, 3, 1, 3, 2, 3, 3, 1, 2, 3, 3, 3, 1, 2, 3,\n",
       "       2, 3, 3, 3, 3, 2, 2, 2, 3, 1, 3, 3, 3, 3, 3, 3, 3, 2, 3, 3, 2, 3,\n",
       "       2, 2, 2, 3, 3, 2, 2, 2, 2, 2, 3, 3, 2, 2, 3, 2, 2, 3, 3, 3, 3, 3,\n",
       "       2, 3, 2, 0, 3, 2, 2, 3, 2, 0, 3, 1, 1, 3, 3, 3, 3, 3, 3, 2, 3, 3,\n",
       "       3, 0, 3, 2, 2, 0, 3, 2, 2, 2, 2, 3, 3, 2, 2, 3, 3, 2, 2, 3, 3, 1,\n",
       "       3, 3, 3, 3, 3, 3, 2, 0, 2, 3, 3], dtype=int64)"
      ]
     },
     "execution_count": 16,
     "metadata": {},
     "output_type": "execute_result"
    }
   ],
   "source": [
    "y_test"
   ]
  },
  {
   "cell_type": "code",
   "execution_count": 17,
   "metadata": {},
   "outputs": [
    {
     "data": {
      "image/png": "[encoded data removed]",
      "text/plain": [
       "<Figure size 432x288 with 2 Axes>"
      ]
     },
     "metadata": {
      "needs_background": "light"
     },
     "output_type": "display_data"
    }
   ],
   "source": [
    "import numpy as np\n",
    "import seaborn as sns\n",
    "import matplotlib.pyplot as plt\n",
    "ax=sns.heatmap(cm, annot=True, fmt=\"0.3f\", annot_kws={\"size\": 16})\n",
    "bottom, top = ax.get_ylim()\n",
    "ax.set_ylim(bottom+0.45, top-0.4)\n",
    "plt.xlabel(\"Predicted labels\", fontsize=14)\n",
    "plt.ylabel(\"True labels\", fontsize=14)\n",
    "#plt.figure(figsize=(10,7))\n",
    "#plt.savefig(\"hmwscalingall.png\", dpi=300)\n",
    "plt.show()"
   ]
  },
  {
   "cell_type": "code",
   "execution_count": null,
   "metadata": {},
   "outputs": [],
   "source": []
  },
  {
   "cell_type": "code",
   "execution_count": null,
   "metadata": {},
   "outputs": [],
   "source": []
  }
 ],
 "metadata": {
  "kernelspec": {
   "display_name": "Python 3",
   "language": "python",
   "name": "python3"
  },
  "language_info": {
   "codemirror_mode": {
    "name": "ipython",
    "version": 3
   },
   "file_extension": ".py",
   "mimetype": "text/x-python",
   "name": "python",
   "nbconvert_exporter": "python",
   "pygments_lexer": "ipython3",
   "version": "3.8.8"
  }
 },
 "nbformat": 4,
 "nbformat_minor": 4
}
